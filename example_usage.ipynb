{
 "cells": [
  {
   "cell_type": "markdown",
   "metadata": {},
   "source": [
    "# Whisper Blockifier Plugin Example\n",
    "\n",
    "This example demonstrates the `whisper-s2t-blockifier` Steamship plugin.\n",
    "\n",
    "To authenticate with Steamship, install the Steamship CLI with:\n",
    "\n",
    "```bash\n",
    "> npm install -g @steamship/cli\n",
    "```\n",
    "\n",
    "And then login with:\n",
    "\n",
    "```bash\n",
    "> ship login\n",
    "```"
   ]
  },
  {
   "cell_type": "code",
   "execution_count": null,
   "metadata": {
    "pycharm": {
     "name": "#%%\n"
    }
   },
   "outputs": [],
   "source": [
    "%pip install --upgrade steamship===2.2.0b2"
   ]
  },
  {
   "cell_type": "code",
   "execution_count": null,
   "metadata": {
    "pycharm": {
     "name": "#%%\n"
    }
   },
   "outputs": [],
   "source": [
    "from steamship import Steamship, File, MimeTypes, Tag, Workspace"
   ]
  },
  {
   "cell_type": "code",
   "execution_count": null,
   "metadata": {},
   "outputs": [],
   "source": [
    "# Create a new workspace and allow usage\n",
    "\n",
    "workspace = Steamship(workspace=\"whisper-s2t-plugin-demo-001\")\n",
    "\n",
    "print(f\"Using workspace {workspace.config.workspace_handle}\")"
   ]
  },
  {
   "cell_type": "code",
   "execution_count": null,
   "metadata": {
    "pycharm": {
     "name": "#%%\n"
    }
   },
   "outputs": [],
   "source": [
    "# Create our client.\n",
    "\n",
    "plugin_config = {\"get_segments\": True, \"whisper_model\": \"tiny\"}\n",
    "\n",
    "whisper = workspace.use_plugin(\"whisper-s2t-blockifier-staging\", \"whisper-instance-0001\", config=plugin_config)"
   ]
  },
  {
   "cell_type": "code",
   "execution_count": null,
   "metadata": {
    "pycharm": {
     "name": "#%%\n"
    }
   },
   "outputs": [],
   "source": [
    "# Create the audio file in Steamship workspace\n",
    "from pathlib import Path\n",
    "from steamship import File, MimeTypes\n",
    "\n",
    "audio_path = Path(\"test/data/OSR_us_000_0010_8k.wav\")\n",
    "file = File.create(whisper.client, content=audio_path.open(\"rb\").read(), mime_type=MimeTypes.WAV)\n"
   ]
  },
  {
   "cell_type": "code",
   "execution_count": null,
   "metadata": {
    "pycharm": {
     "name": "#%%\n"
    }
   },
   "outputs": [],
   "source": [
    "# Transcribe the audio file (which creates a Steamship block on the content)\n",
    "blockify_response = file.blockify(plugin_instance=whisper.handle)\n",
    "blockify_response.wait(max_timeout_s=3600, retry_delay_s=1)\n",
    "\n",
    "file = file.refresh()"
   ]
  },
  {
   "cell_type": "code",
   "execution_count": null,
   "metadata": {
    "pycharm": {
     "name": "#%%\n"
    }
   },
   "outputs": [],
   "source": [
    "# There may be small delay while we await full transcription. Please wait for the transcription to finish.\n",
    "\n",
    "# Print out the information. Notice both the raw text and the various timestamp tags.\n",
    "for block in file.blocks:\n",
    "    print(block.text)\n",
    "    print(block.tags)"
   ]
  },
  {
   "cell_type": "code",
   "execution_count": null,
   "metadata": {},
   "outputs": [],
   "source": []
  }
 ],
 "metadata": {
  "kernelspec": {
   "display_name": "Python 3 (ipykernel)",
   "language": "python",
   "name": "python3"
  },
  "language_info": {
   "codemirror_mode": {
    "name": "ipython",
    "version": 3
   },
   "file_extension": ".py",
   "mimetype": "text/x-python",
   "name": "python",
   "nbconvert_exporter": "python",
   "pygments_lexer": "ipython3",
   "version": "3.8.15"
  }
 },
 "nbformat": 4,
 "nbformat_minor": 1
}
