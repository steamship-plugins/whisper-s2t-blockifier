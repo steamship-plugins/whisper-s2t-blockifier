{
 "cells": [
  {
   "cell_type": "markdown",
   "metadata": {},
   "source": [
    "# Whisper Blockifier Plugin Example\n",
    "\n",
    "This example demonstrates the `whisper-s2t-blockifier` Steamship plugin.\n",
    "\n",
    "To authenticate with Steamship, install the Steamship CLI with:\n",
    "\n",
    "```bash\n",
    "> npm install -g @steamship/cli\n",
    "```\n",
    "\n",
    "And then login with:\n",
    "\n",
    "```bash\n",
    "> ship login\n",
    "```"
   ]
  },
  {
   "cell_type": "code",
   "execution_count": 3,
   "metadata": {
    "pycharm": {
     "name": "#%%\n"
    }
   },
   "outputs": [
    {
     "name": "stdout",
     "output_type": "stream",
     "text": [
      "Requirement already satisfied: steamship>=2.1.31 in ./.venv/lib/python3.10/site-packages (2.1.31)\n",
      "Requirement already satisfied: pydantic==1.9.0 in ./.venv/lib/python3.10/site-packages (from steamship>=2.1.31) (1.9.0)\n",
      "Requirement already satisfied: inflection==0.5.1 in ./.venv/lib/python3.10/site-packages (from steamship>=2.1.31) (0.5.1)\n",
      "Requirement already satisfied: aiohttp==3.8.1 in ./.venv/lib/python3.10/site-packages (from steamship>=2.1.31) (3.8.1)\n",
      "Requirement already satisfied: requests==2.27.1 in ./.venv/lib/python3.10/site-packages (from steamship>=2.1.31) (2.27.1)\n",
      "Requirement already satisfied: fluent-logger==0.10.0 in ./.venv/lib/python3.10/site-packages (from steamship>=2.1.31) (0.10.0)\n",
      "Requirement already satisfied: async-timeout<5.0,>=4.0.0a3 in ./.venv/lib/python3.10/site-packages (from aiohttp==3.8.1->steamship>=2.1.31) (4.0.2)\n",
      "Requirement already satisfied: attrs>=17.3.0 in ./.venv/lib/python3.10/site-packages (from aiohttp==3.8.1->steamship>=2.1.31) (22.1.0)\n",
      "Requirement already satisfied: multidict<7.0,>=4.5 in ./.venv/lib/python3.10/site-packages (from aiohttp==3.8.1->steamship>=2.1.31) (6.0.2)\n",
      "Requirement already satisfied: frozenlist>=1.1.1 in ./.venv/lib/python3.10/site-packages (from aiohttp==3.8.1->steamship>=2.1.31) (1.3.1)\n",
      "Requirement already satisfied: charset-normalizer<3.0,>=2.0 in ./.venv/lib/python3.10/site-packages (from aiohttp==3.8.1->steamship>=2.1.31) (2.0.7)\n",
      "Requirement already satisfied: aiosignal>=1.1.2 in ./.venv/lib/python3.10/site-packages (from aiohttp==3.8.1->steamship>=2.1.31) (1.2.0)\n",
      "Requirement already satisfied: yarl<2.0,>=1.0 in ./.venv/lib/python3.10/site-packages (from aiohttp==3.8.1->steamship>=2.1.31) (1.8.1)\n",
      "Requirement already satisfied: msgpack>1.0 in ./.venv/lib/python3.10/site-packages (from fluent-logger==0.10.0->steamship>=2.1.31) (1.0.4)\n",
      "Requirement already satisfied: typing-extensions>=3.7.4.3 in ./.venv/lib/python3.10/site-packages (from pydantic==1.9.0->steamship>=2.1.31) (4.4.0)\n",
      "Requirement already satisfied: certifi>=2017.4.17 in ./.venv/lib/python3.10/site-packages (from requests==2.27.1->steamship>=2.1.31) (2021.10.8)\n",
      "Requirement already satisfied: urllib3<1.27,>=1.21.1 in ./.venv/lib/python3.10/site-packages (from requests==2.27.1->steamship>=2.1.31) (1.26.7)\n",
      "Requirement already satisfied: idna<4,>=2.5 in ./.venv/lib/python3.10/site-packages (from requests==2.27.1->steamship>=2.1.31) (3.3)\n",
      "Note: you may need to restart the kernel to use updated packages.\n"
     ]
    }
   ],
   "source": [
    "%pip install \"steamship>=2.1.31\""
   ]
  },
  {
   "cell_type": "code",
   "execution_count": 4,
   "metadata": {
    "pycharm": {
     "name": "#%%\n"
    }
   },
   "outputs": [],
   "source": [
    "# This should match the value found in the `handle` field of `steamship.json`\n",
    "PLUGIN_HANDLE=\"whisper-s2t-blockifier\""
   ]
  },
  {
   "cell_type": "code",
   "execution_count": 5,
   "metadata": {
    "pycharm": {
     "name": "#%%\n"
    }
   },
   "outputs": [],
   "source": [
    "# Create our client.\n",
    "from steamship import Steamship\n",
    "\n",
    "plugin_config = {\"get_segments\": True, \"whisper_model\": \"tiny\"}\n",
    "\n",
    "whisper = Steamship.use_plugin(PLUGIN_HANDLE, \"whisper-s2t-blockifier-test-0001\", config=plugin_config)"
   ]
  },
  {
   "cell_type": "code",
   "execution_count": 6,
   "metadata": {
    "pycharm": {
     "name": "#%%\n"
    }
   },
   "outputs": [],
   "source": [
    "# Create the audio file\n",
    "from pathlib import Path\n",
    "from steamship import File, MimeTypes\n",
    "\n",
    "audio_path = Path(\"test/data/OSR_us_000_0010_8k.wav\")\n",
    "file = File.create(whisper.client, filename=str(audio_path.resolve()), mime_type=MimeTypes.MP3).data\n"
   ]
  },
  {
   "cell_type": "code",
   "execution_count": 9,
   "metadata": {
    "pycharm": {
     "name": "#%%\n"
    }
   },
   "outputs": [],
   "source": [
    "# Transcribe the audio file (which creates a Steamship block on the content)\n",
    "blockify_response = file.blockify(plugin_instance=whisper.handle)\n",
    "blockify_response.wait(max_timeout_s=3600, retry_delay_s=1)\n",
    "\n",
    "# There may be small delay while we await full transcription.\n",
    "file = file.refresh().data"
   ]
  },
  {
   "cell_type": "code",
   "execution_count": 8,
   "metadata": {
    "pycharm": {
     "name": "#%%\n"
    }
   },
   "outputs": [
    {
     "name": "stdout",
     "output_type": "stream",
     "text": [
      "The birch can use lid on this smooth planks. Glue the sheet to the dark blue background. It is easy to tell the depth of a well. These days, the chicken leg is a rare dish. Rice is often served in round bowls. The juice of lemon makes fine punch. The box was thrown beside the pork chuck. The hogs were fed chopped corn and garbage. Four hours of steady work faced us. A large size of stockings is hard to sell.\n",
      "[Tag(client=None, id='F7A60434-7398-4899-9D2B-B8C46D31F991', file_id='78226C87-C00F-49A4-A753-2F4CB84BC815', block_id='25B72AFD-654A-41F5-B1A8-F91AF4F4B161', kind='timestamp', name='The birch can use lid on this smooth planks.', value={'start_time': 0, 'end_time': 4}, start_idx=0, end_idx=44), Tag(client=None, id='9A6F4339-5856-40FF-8C6B-CE255B989B10', file_id='78226C87-C00F-49A4-A753-2F4CB84BC815', block_id='25B72AFD-654A-41F5-B1A8-F91AF4F4B161', kind='timestamp', name='Glue the sheet to the dark blue background.', value={'start_time': 4, 'end_time': 7}, start_idx=45, end_idx=88), Tag(client=None, id='57A51D83-15B2-4D3A-ACCD-6337D3513FAD', file_id='78226C87-C00F-49A4-A753-2F4CB84BC815', block_id='25B72AFD-654A-41F5-B1A8-F91AF4F4B161', kind='timestamp', name='It is easy to tell the depth of a well.', value={'end_time': 10, 'start_time': 7}, start_idx=89, end_idx=128), Tag(client=None, id='718982DD-5F17-4AD3-A53C-3D679EB6D0C7', file_id='78226C87-C00F-49A4-A753-2F4CB84BC815', block_id='25B72AFD-654A-41F5-B1A8-F91AF4F4B161', kind='timestamp', name='These days, the chicken leg is a rare dish.', value={'end_time': 14, 'start_time': 10}, start_idx=129, end_idx=172), Tag(client=None, id='C12D9EB3-8CA1-4F2F-B3CC-8435C4B59E36', file_id='78226C87-C00F-49A4-A753-2F4CB84BC815', block_id='25B72AFD-654A-41F5-B1A8-F91AF4F4B161', kind='timestamp', name='Rice is often served in round bowls.', value={'end_time': 17, 'start_time': 14}, start_idx=173, end_idx=209), Tag(client=None, id='3B73DE51-BA3E-4BEC-ABD0-FCE4970A8663', file_id='78226C87-C00F-49A4-A753-2F4CB84BC815', block_id='25B72AFD-654A-41F5-B1A8-F91AF4F4B161', kind='timestamp', name='The juice of lemon makes fine punch.', value={'start_time': 17, 'end_time': 20}, start_idx=210, end_idx=246), Tag(client=None, id='FC17A375-5330-4188-80BD-5F070C7ADAA9', file_id='78226C87-C00F-49A4-A753-2F4CB84BC815', block_id='25B72AFD-654A-41F5-B1A8-F91AF4F4B161', kind='timestamp', name='The box was thrown beside the pork chuck.', value={'end_time': 23, 'start_time': 20}, start_idx=247, end_idx=288), Tag(client=None, id='5C0CD8FC-EDC6-4560-B136-7E319007BEE6', file_id='78226C87-C00F-49A4-A753-2F4CB84BC815', block_id='25B72AFD-654A-41F5-B1A8-F91AF4F4B161', kind='timestamp', name='The hogs were fed chopped corn and garbage.', value={'start_time': 23, 'end_time': 26}, start_idx=289, end_idx=332), Tag(client=None, id='E03CB3D3-0647-4928-B6E3-A882A180EAA0', file_id='78226C87-C00F-49A4-A753-2F4CB84BC815', block_id='25B72AFD-654A-41F5-B1A8-F91AF4F4B161', kind='timestamp', name='Four hours of steady work faced us.', value={'start_time': 26, 'end_time': 30}, start_idx=333, end_idx=368), Tag(client=None, id='E0743906-A826-4889-A800-811D2F897EB0', file_id='78226C87-C00F-49A4-A753-2F4CB84BC815', block_id='25B72AFD-654A-41F5-B1A8-F91AF4F4B161', kind='timestamp', name='A large size of stockings is hard to sell.', value={'start_time': 30, 'end_time': 34}, start_idx=369, end_idx=411)]\n"
     ]
    }
   ],
   "source": [
    "# Print out the information. Notice both the raw text and the various timestamp tags.\n",
    "for block in file.blocks:\n",
    "    print(block.text)\n",
    "    print(block.tags)"
   ]
  },
  {
   "cell_type": "code",
   "execution_count": null,
   "metadata": {},
   "outputs": [],
   "source": []
  }
 ],
 "metadata": {
  "kernelspec": {
   "display_name": "Python 3 (ipykernel)",
   "language": "python",
   "name": "python3"
  },
  "language_info": {
   "codemirror_mode": {
    "name": "ipython",
    "version": 3
   },
   "file_extension": ".py",
   "mimetype": "text/x-python",
   "name": "python",
   "nbconvert_exporter": "python",
   "pygments_lexer": "ipython3",
   "version": "3.10.8"
  }
 },
 "nbformat": 4,
 "nbformat_minor": 1
}
