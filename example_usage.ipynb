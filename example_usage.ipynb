{
 "cells": [
  {
   "cell_type": "markdown",
   "metadata": {},
   "source": [
    "# Whisper Blockifier Plugin Example\n",
    "\n",
    "This example demonstrates the `whisper-s2t-blockifier` Steamship plugin.\n",
    "\n",
    "To authenticate with Steamship, install the Steamship CLI with:\n",
    "\n",
    "```bash\n",
    "> npm install -g @steamship/cli\n",
    "```\n",
    "\n",
    "And then login with:\n",
    "\n",
    "```bash\n",
    "> ship login\n",
    "```"
   ]
  },
  {
   "cell_type": "code",
   "execution_count": null,
   "metadata": {
    "pycharm": {
     "name": "#%%\n"
    }
   },
   "outputs": [],
   "source": [
    "%pip install --upgrade steamship===2.2.1"
   ]
  },
  {
   "cell_type": "code",
   "execution_count": null,
   "metadata": {
    "pycharm": {
     "name": "#%%\n"
    }
   },
   "outputs": [],
   "source": [
    "from steamship import Steamship, File, MimeTypes, Tag, Workspace"
   ]
  },
  {
   "cell_type": "code",
   "execution_count": null,
   "metadata": {},
   "outputs": [],
   "source": [
    "# Create a new workspace and allow usage\n",
    "\n",
    "s2t = Steamship.use_plugin(\"whisper-s2t-blockifier-staging-doug\", \"whisper-instance-0400\")\n",
    "\n",
    "print(f\"using plugin with handle: {s2t.handle} in workspace: {s2t.client.config.workspace_handle}\")\n"
   ]
  },
  {
   "cell_type": "code",
   "execution_count": null,
   "metadata": {
    "pycharm": {
     "name": "#%%\n"
    }
   },
   "outputs": [],
   "source": [
    "# Create the audio file in Steamship workspace\n",
    "\n",
    "from pathlib import Path\n",
    "import requests\n",
    "from steamship import File, MimeTypes, Tag\n",
    "\n",
    "audio_path = Path(\"test/data/OSR_us_000_0010_8k.wav\")\n",
    "file = File.create(s2t.client, content=audio_path.open(\"rb\").read(), mime_type=MimeTypes.WAV)\n",
    "\n",
    "print(f\"created file: {file.handle}\")"
   ]
  },
  {
   "cell_type": "code",
   "execution_count": null,
   "metadata": {
    "pycharm": {
     "name": "#%%\n"
    }
   },
   "outputs": [],
   "source": [
    "# Transcribe the audio file (which creates a Steamship block on the content)\n",
    "blockify_task = file.blockify(plugin_instance=s2t.handle)\n",
    "print(blockify_task.state)\n",
    "\n",
    "blockify_task.wait(max_timeout_s=3600, retry_delay_s=1)\n",
    "\n",
    "print(\"blockify task finished.\")\n",
    "\n",
    "file = file.refresh()\n"
   ]
  },
  {
   "cell_type": "code",
   "execution_count": null,
   "metadata": {
    "pycharm": {
     "name": "#%%\n"
    }
   },
   "outputs": [],
   "source": [
    "# There may be small delay while we await full transcription. Please wait for the transcription to finish.\n",
    "\n",
    "# Print out the information.\n",
    "for block in file.blocks:\n",
    "    print(block.text)"
   ]
  },
  {
   "cell_type": "code",
   "execution_count": null,
   "metadata": {},
   "outputs": [],
   "source": []
  }
 ],
 "metadata": {
  "kernelspec": {
   "display_name": "Python 3 (ipykernel)",
   "language": "python",
   "name": "python3"
  },
  "language_info": {
   "codemirror_mode": {
    "name": "ipython",
    "version": 3
   },
   "file_extension": ".py",
   "mimetype": "text/x-python",
   "name": "python",
   "nbconvert_exporter": "python",
   "pygments_lexer": "ipython3",
   "version": "3.8.15"
  }
 },
 "nbformat": 4,
 "nbformat_minor": 1
}
